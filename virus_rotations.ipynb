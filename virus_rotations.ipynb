{
 "cells": [
  {
   "cell_type": "code",
   "execution_count": 75,
   "id": "294f03d4-fa9b-4a42-8a54-f53e79df306f",
   "metadata": {},
   "outputs": [],
   "source": [
    "import numpy as np\n",
    "import matplotlib.pyplot as plt\n",
    "import holoviews as hv\n",
    "import seaborn as sns\n",
    "import pickle as pkl\n",
    "from core import *"
   ]
  },
  {
   "cell_type": "code",
   "execution_count": 76,
   "id": "3209e8a4-9345-4d26-be19-b02179a26c69",
   "metadata": {},
   "outputs": [],
   "source": [
    "background_dir = \"./Data/background_yarrays\"\n",
    "virus_dir = \"./Data/yarrays\""
   ]
  },
  {
   "cell_type": "code",
   "execution_count": 90,
   "id": "87c33df2-9bc2-4e49-9b5a-453d113142ee",
   "metadata": {},
   "outputs": [
    {
     "data": {
      "text/plain": [
       "array([[[0.50000012-0.50000001j, 1.00000001-1.00000026j],\n",
       "        [0.50000012-0.50000001j, 1.00000001-1.00000026j]],\n",
       "\n",
       "       [[0.50000027+0.50000018j, 1.00000001+1.00000008j],\n",
       "        [0.50000027+0.50000018j, 1.00000001+1.00000008j]],\n",
       "\n",
       "       [[0.50000024-0.4999999j , 1.00000001-1.00000012j],\n",
       "        [0.50000024-0.4999999j , 1.00000001-1.00000012j]],\n",
       "\n",
       "       [[0.50000022+0.49999976j, 0.99999977+1.00000019j],\n",
       "        [0.50000022+0.49999976j, 0.99999977+1.00000019j]],\n",
       "\n",
       "       [[0.50000011-0.49999971j, 0.99999955-1.00000006j],\n",
       "        [0.50000011-0.49999971j, 0.99999955-1.00000006j]],\n",
       "\n",
       "       [[0.50000033+0.49999986j, 0.99999946+1.0000001j ],\n",
       "        [0.50000033+0.49999986j, 0.99999946+1.0000001j ]],\n",
       "\n",
       "       [[0.50000025-0.49999992j, 0.9999992 -1.00000006j],\n",
       "        [0.50000025-0.49999992j, 0.9999992 -1.00000006j]],\n",
       "\n",
       "       [[0.50000001+0.49999991j, 0.9999991 +0.99999994j],\n",
       "        [0.50000001+0.49999991j, 0.9999991 +0.99999994j]],\n",
       "\n",
       "       [[0.50000013-0.50000005j, 0.99999888-0.99999999j],\n",
       "        [0.50000013-0.50000005j, 0.99999888-0.99999999j]],\n",
       "\n",
       "       [[0.50000023+0.49999992j, 0.99999908+0.99999987j],\n",
       "        [0.50000023+0.49999992j, 0.99999908+0.99999987j]],\n",
       "\n",
       "       [[0.50000046-0.49999994j, 0.99999897-0.99999998j],\n",
       "        [0.50000046-0.49999994j, 0.99999897-0.99999998j]],\n",
       "\n",
       "       [[0.50000037+0.50000001j, 0.99999908+1.00000022j],\n",
       "        [0.50000037+0.50000001j, 0.99999908+1.00000022j]],\n",
       "\n",
       "       [[0.50000045-0.50000024j, 0.99999894-1.0000002j ],\n",
       "        [0.50000045-0.50000024j, 0.99999894-1.0000002j ]],\n",
       "\n",
       "       [[0.50000072+0.50000018j, 0.99999887+1.0000002j ],\n",
       "        [0.50000072+0.50000018j, 0.99999887+1.0000002j ]],\n",
       "\n",
       "       [[0.5000009 -0.50000008j, 0.99999894-1.00000002j],\n",
       "        [0.5000009 -0.50000008j, 0.99999894-1.00000002j]],\n",
       "\n",
       "       [[0.50000078+0.50000014j, 0.99999897+1.00000027j],\n",
       "        [0.50000078+0.50000014j, 0.99999897+1.00000027j]],\n",
       "\n",
       "       [[0.50000104-0.50000005j, 0.99999891-1.00000026j],\n",
       "        [0.50000104-0.50000005j, 0.99999891-1.00000026j]],\n",
       "\n",
       "       [[0.50000117+0.50000004j, 0.99999917+1.00000026j],\n",
       "        [0.50000117+0.50000004j, 0.99999917+1.00000026j]],\n",
       "\n",
       "       [[0.50000115-0.50000022j, 0.99999897-1.00000016j],\n",
       "        [0.50000115-0.50000022j, 0.99999897-1.00000016j]],\n",
       "\n",
       "       [[0.50000095+0.50000003j, 0.99999902+1.00000019j],\n",
       "        [0.50000095+0.50000003j, 0.99999902+1.00000019j]]])"
      ]
     },
     "execution_count": 90,
     "metadata": {},
     "output_type": "execute_result"
    }
   ],
   "source": [
    "with open(f\"{background_dir}/background_all_y.pkl\",'rb') as infile:\n",
    "    background_yarrays = pkl.load(infile)\n",
    "with open(f\"{virus_dir}/virus_all_y.pkl\",'rb') as infile:\n",
    "    virus_yarrays = pkl.load(infile)"
   ]
  },
  {
   "cell_type": "code",
   "execution_count": 78,
   "id": "0ecdafb5-342b-4489-ad7a-aee7b0d8130c",
   "metadata": {},
   "outputs": [],
   "source": [
    "y0 = np.array([[complex(0.5,0.5),complex(1,1)],[complex(0.5,0.5),complex(1,1)]])\n",
    "\n",
    "all_y = np.zeros((10,20,2,2),dtype=\"complex128\")\n",
    "\n",
    "for i in range(10):\n",
    "\n",
    "    def Y(y,t):\n",
    "        seq = DNA(5)\n",
    "        alg = Sequence(seq).run()\n",
    "        y_t = matrix_multiply(y,expm(alg))\n",
    "        return y_t\n",
    "\n",
    "    y_array = np.zeros((20,2,2),dtype=\"complex128\")\n",
    "    y = y0\n",
    "    for n in range(20):\n",
    "        y = rkmk_step(Y,y,n)\n",
    "        y_array[n] = y\n",
    "\n",
    "    all_y[i-1] = y_array"
   ]
  },
  {
   "cell_type": "code",
   "execution_count": 79,
   "id": "5bc8b1f1-d6cf-4a32-adde-eb2433e1a183",
   "metadata": {},
   "outputs": [],
   "source": [
    "def matrix_vector_multiply(m,v,vector_type=\"row\"):\n",
    "    if vector_type == \"row\":\n",
    "        return np.array([np.vdot(v,i) for i in m.T])\n",
    "    elif vector_type == \"column\":\n",
    "        return np.array([np.vdot(i,v) for i in m])\n",
    "\n",
    "def vector_multiply(v1,v2):\n",
    "    return np.vdot(v1,v2)"
   ]
  },
  {
   "cell_type": "code",
   "execution_count": 80,
   "id": "2ce07c19-e4f9-4c6d-8a98-7ae9bb57484f",
   "metadata": {},
   "outputs": [],
   "source": [
    "def random_complex_vector(n_components=2):\n",
    "    vals = np.random.rand(n_components,2)\n",
    "    vector = np.zeros(n_components,dtype=\"complex128\")\n",
    "    for i in range(n_components):\n",
    "        vector[i] = complex(vals[i,0],vals[i,1])\n",
    "    return vector"
   ]
  },
  {
   "cell_type": "code",
   "execution_count": 81,
   "id": "00b022a5-7a92-45c3-a321-bcbeffb466c8",
   "metadata": {},
   "outputs": [
    {
     "data": {
      "text/plain": [
       "array([0.86790372+0.92062319j, 0.67220254+0.3856258j ])"
      ]
     },
     "execution_count": 81,
     "metadata": {},
     "output_type": "execute_result"
    }
   ],
   "source": [
    "random_complex_vector()"
   ]
  },
  {
   "cell_type": "code",
   "execution_count": 82,
   "id": "470eb051-f1e8-475d-9abe-9407e4bf44fe",
   "metadata": {},
   "outputs": [
    {
     "data": {
      "text/plain": [
       "(20, 2, 2)"
      ]
     },
     "execution_count": 82,
     "metadata": {},
     "output_type": "execute_result"
    }
   ],
   "source": [
    "all_y[0].shape"
   ]
  },
  {
   "cell_type": "code",
   "execution_count": 92,
   "id": "237ca592-4068-45cb-8640-a5dfb2084587",
   "metadata": {},
   "outputs": [],
   "source": [
    "v1 = random_complex_vector()\n",
    "v2 = v1\n",
    "vvr = v1\n",
    "vvc = v1\n",
    "v1s = []\n",
    "v2s = []\n",
    "vvr = []\n",
    "vvc = []"
   ]
  },
  {
   "cell_type": "code",
   "execution_count": 93,
   "id": "249e03ed-5f06-47b0-a711-c1d3f7aa95a6",
   "metadata": {},
   "outputs": [
    {
     "name": "stdout",
     "output_type": "stream",
     "text": [
      "[0.15989654-1.21760471j 0.31979301-2.43520965j]\n",
      "[-1.58656267+2.06625185j -3.17312438+4.13250418j]\n",
      "[ -5.47922132-0.71953371j -10.95844395-1.43907064j]\n",
      "[ -9.29813474 -7.13953153j -18.59627409-14.2790593j ]\n",
      "[-3.23791212+24.65650212j -6.47582659+49.31300337j]\n",
      "[32.12788129-41.84162873j 64.25577303-83.6832531j ]\n",
      "[110.95426219+14.57063835j 221.90856436+29.1412434j ]\n",
      "[188.28733   +144.57541572j 376.57475313+289.15097375j]\n",
      "[ 65.56793271-499.29407657j 131.13577172-998.58869281j]\n",
      "[ -650.58923973 +847.29291118j -1301.17919194+1694.58687624j]\n",
      "[-2246.82259647-295.05523392j -4493.64880184-590.11165482j]\n",
      "[-3812.81611444-2927.65174082j -7625.64100883-5855.30494765j]\n",
      "[-1327.74827984+10110.69946551j -2655.50461933+20221.41974959j]\n",
      "[13174.42624024-17157.66925159j 26348.86970691-34315.3816125j ]\n",
      "[45498.13099484 +5974.87349867j 90996.36757878+11949.77471067j]\n",
      "[ 77209.49901012 +59284.86991638j 154419.21353711+118569.85998354j]\n",
      "[26886.95071766-204741.51393881j 53774.11217611-409483.58315902j]\n",
      "[-266781.78741733+347442.67135071j -533564.06883902+694886.68131231j]\n",
      "[ -921336.47175956-120991.52746641j -1842676.06756592-241984.01457962j]\n",
      "[-1563492.15875626-1200517.53797077j -3126990.45936464-2401037.58543667j]\n"
     ]
    }
   ],
   "source": [
    "for i in all_y[0]:\n",
    "    v1 = matrix_vector_multiply(i,v1)\n",
    "    v1s.append(v1)\n",
    "    print(v1)"
   ]
  },
  {
   "cell_type": "code",
   "execution_count": 94,
   "id": "25c25d71-735b-4bdb-9c68-b55d341af49a",
   "metadata": {},
   "outputs": [
    {
     "name": "stdout",
     "output_type": "stream",
     "text": [
      "[0.17884703+1.59905719j 0.17884703+1.59905719j]\n",
      "[2.66685627+2.13031532j 2.66685627+2.13031532j]\n",
      "[0.8048118+7.19575768j 0.8048118+7.19575768j]\n",
      "[12.00085444+9.58642073j 12.00085444+9.58642073j]\n",
      "[3.62165562+32.38091549j 3.62165562+32.38091549j]\n",
      "[54.00386004+43.13889595j 54.00386004+43.13889595j]\n",
      "[16.29746362+145.71414409j 16.29746362+145.71414409j]\n",
      "[243.01740197+194.12503237j 243.01740197+194.12503237j]\n",
      "[73.33862549+655.71367929j 73.33862549+655.71367929j]\n",
      "[1093.57839491+873.56263058j 1093.57839491+873.56263058j]\n",
      "[330.02359102+2950.71113079j 330.02359102+2950.71113079j]\n",
      "[4921.10201839+3931.03118729j 4921.10201839+3931.03118729j]\n",
      "[1485.1072404+13278.19917126j 1485.1072404+13278.19917126j]\n",
      "[22144.95735742+17689.63516691j 22144.95735742+17689.63516691j]\n",
      "[6682.99038121+59751.87946847j 6682.99038121+59751.87946847j]\n",
      "[99652.28462142+79603.33517345j 99652.28462142+79603.33517345j]\n",
      "[30073.46355892+268883.40136788j 30073.46355892+268883.40136788j]\n",
      "[448435.22647642+358214.97490084j 448435.22647642+358214.97490084j]\n",
      "[135330.50953865+1209975.18489068j 135330.50953865+1209975.18489068j]\n",
      "[2017958.43560255+1611967.26234939j 2017958.43560255+1611967.26234939j]\n"
     ]
    }
   ],
   "source": [
    "for i in all_y[0]:\n",
    "    v2 = matrix_vector_multiply(i,v2,\"column\")\n",
    "    v2s.append(v2)\n",
    "    print(v2)"
   ]
  },
  {
   "cell_type": "code",
   "execution_count": 100,
   "id": "3ac9feff-0680-4919-aa0b-3d18cde19a7a",
   "metadata": {},
   "outputs": [
    {
     "name": "stdout",
     "output_type": "stream",
     "text": [
      "[1.22805868 2.45611759] [1.6090277 1.6090277]\n",
      "[2.60510611 5.21021201] [3.41326321 3.41326321]\n",
      "[ 5.52626411 11.05252994] [7.24062501 7.24062501]\n",
      "[11.72297829 23.44595796] [15.35968652 15.35968652]\n",
      "[24.86819599 49.73639142] [32.58281874 32.58281874]\n",
      "[ 52.75341364 105.50683019] [69.11860273 69.11860273]\n",
      "[111.90688898 223.81381326] [146.62271007 146.62271007]\n",
      "[237.39033146 474.78082345] [311.03373749 311.03373749]\n",
      "[ 503.58090581 1007.1623345 ] [659.80223037 659.80223037]\n",
      "[1068.25635321 2136.51397624] [1399.65187649 1399.65187649]\n",
      "[2266.1132741  4532.23028094] [2969.10958841 2969.10958841]\n",
      "[4807.15211306 9614.3120828 ] [6298.43244552 6298.43244552]\n",
      "[10197.50749823 20395.0366872 ] [13360.99235638 13360.99235638]\n",
      "[21632.17790484 43264.40049328] [28342.9414264 28342.9414264]\n",
      "[45888.76809579 91777.64449019] [60124.44977253 60124.44977253]\n",
      "[ 97344.76122728 194689.76656706] [127543.2036645 127543.2036645]\n",
      "[206499.38413673 412999.34626713] [270559.96884534 270559.96884534]\n",
      "[438051.28920356 876103.94099175] [573944.35321569 573944.35321569]\n",
      "[ 929246.92300433 1858497.06841099] [1217519.73079011 1217519.73079011]\n",
      "[1971230.60281331 3942467.6054011 ] [2582749.44636635 2582749.44636635]\n"
     ]
    }
   ],
   "source": [
    "for i in range(20):\n",
    "    print(np.abs(v1s[i]),np.abs(v2s[i]))"
   ]
  },
  {
   "cell_type": "code",
   "execution_count": 96,
   "id": "0710d231-adbe-44dc-9ba3-f0c32644bf9d",
   "metadata": {},
   "outputs": [
    {
     "data": {
      "text/plain": [
       "[<matplotlib.lines.Line2D at 0x7f948bab6130>,\n",
       " <matplotlib.lines.Line2D at 0x7f948bab6160>]"
      ]
     },
     "execution_count": 96,
     "metadata": {},
     "output_type": "execute_result"
    },
    {
     "data": {
      "image/png": "[encoded data removed]",
      "text/plain": [
       "<Figure size 432x288 with 1 Axes>"
      ]
     },
     "metadata": {
      "needs_background": "light"
     },
     "output_type": "display_data"
    }
   ],
   "source": [
    "plt.plot(np.arange(0,20),np.abs(v1s))"
   ]
  },
  {
   "cell_type": "code",
   "execution_count": 97,
   "id": "f0e69ece-f77e-42d5-b57f-79ff96a380ba",
   "metadata": {},
   "outputs": [
    {
     "data": {
      "text/plain": [
       "[<matplotlib.lines.Line2D at 0x7f948bbdf4c0>,\n",
       " <matplotlib.lines.Line2D at 0x7f948bbdf4f0>]"
      ]
     },
     "execution_count": 97,
     "metadata": {},
     "output_type": "execute_result"
    },
    {
     "data": {
      "image/png": "[encoded data removed]",
      "text/plain": [
       "<Figure size 432x288 with 1 Axes>"
      ]
     },
     "metadata": {
      "needs_background": "light"
     },
     "output_type": "display_data"
    }
   ],
   "source": [
    "plt.plot(np.arange(0,20),np.abs(v2s))"
   ]
  },
  {
   "cell_type": "code",
   "execution_count": 99,
   "id": "20fd7880-b8a1-456f-8879-d7311141a3ef",
   "metadata": {},
   "outputs": [
    {
     "name": "stdout",
     "output_type": "stream",
     "text": [
      "[608984.38497041+5444886.68878634j 608984.38497041+5444886.68878634j]\n",
      "[9080808.20115147+7253854.84864587j 9080808.20115147+7253854.84864587j]\n",
      "[2740432.12034949+24501996.53346215j 2740432.12034949+24501996.53346215j]\n",
      "[40863641.73703179+32642346.44998041j 40863641.73703179+32642346.44998041j]\n",
      "[12331936.33178596+1.10258962e+08j 12331936.33178596+1.10258962e+08j]\n",
      "[1.8388634e+08+1.46890516e+08j 1.8388634e+08+1.46890516e+08j]\n",
      "[55493638.59369749+4.96165201e+08j 55493638.59369749+4.96165201e+08j]\n",
      "[8.27488137e+08+6.6100691e+08j 8.27488137e+08+6.6100691e+08j]\n",
      "[2.49720997e+08+2.23274195e+09j 2.49720997e+08+2.23274195e+09j]\n",
      "[3.72369376e+09+2.97452993e+09j 3.72369376e+09+2.97452993e+09j]\n",
      "[1.12374384e+09+1.00473336e+10j 1.12374384e+09+1.00473336e+10j]\n",
      "[1.67566178e+10+1.33853788e+10j 1.67566178e+10+1.33853788e+10j]\n",
      "[5.05684233e+09+4.52129941e+10j 5.05684233e+09+4.52129941e+10j]\n",
      "[7.54047697e+10+6.02342071e+10j 7.54047697e+10+6.02342071e+10j]\n",
      "[2.27558262e+10+2.03458463e+11j 2.27558262e+10+2.03458463e+11j]\n",
      "[3.39321511e+11+2.71053896e+11j 3.39321511e+11+2.71053896e+11j]\n",
      "[1.02401324e+11+9.15563204e+11j 1.02401324e+11+9.15563204e+11j]\n",
      "[1.52694711e+12+1.2197431e+12j 1.52694711e+12+1.2197431e+12j]\n",
      "[4.60805734e+11+4.12003605e+12j 4.60805734e+11+4.12003605e+12j]\n",
      "[6.87126357e+12+5.48884522e+12j 6.87126357e+12+5.48884522e+12j]\n"
     ]
    }
   ],
   "source": [
    "for i in virus_yarrays[0]:\n",
    "    vvc = matrix_vector_multiply(i,vvc,\"column\")\n",
    "    vvc.append(vvc)\n",
    "    print(vvc)"
   ]
  },
  {
   "cell_type": "code",
   "execution_count": null,
   "id": "7d451bbe-7011-4c5c-b49c-380e66f9ca42",
   "metadata": {},
   "outputs": [],
   "source": [
    "for i in virus_yarrays[0]:\n",
    "    vvr = matrix_vector_multiply(i,vvr,\"row\")\n",
    "    vvr.append(vvr)\n",
    "    print(vvr)"
   ]
  },
  {
   "cell_type": "code",
   "execution_count": null,
   "id": "627078be-6a46-4ca5-aacd-024b8699e275",
   "metadata": {},
   "outputs": [],
   "source": []
  },
  {
   "cell_type": "code",
   "execution_count": 101,
   "id": "08af1a0f-eb2c-40d9-a0c3-db31c12ff2a3",
   "metadata": {},
   "outputs": [
    {
     "name": "stdout",
     "output_type": "stream",
     "text": [
      "[1.22805868 2.45611759] [1.6090277 1.6090277] [5478836.83229027 5478836.83229027]\n",
      "[2.60510611 5.21021201] [3.41326321 3.41326321] [11622370.1434485 11622370.1434485]\n",
      "[ 5.52626411 11.05252994] [7.24062501 7.24062501] [24654772.40479081 24654772.40479081]\n",
      "[11.72297829 23.44595796] [15.35968652 15.35968652] [52300669.19048966 52300669.19048966]\n",
      "[24.86819599 49.73639142] [32.58281874 32.58281874] [1.10946452e+08 1.10946452e+08]\n",
      "[ 52.75341364 105.50683019] [69.11860273 69.11860273] [2.35352948e+08 2.35352948e+08]\n",
      "[111.90688898 223.81381326] [146.62271007 146.62271007] [4.99258901e+08 4.99258901e+08]\n",
      "[237.39033146 474.78082345] [311.03373749 311.03373749] [1.0590877e+09 1.0590877e+09]\n",
      "[ 503.58090581 1007.1623345 ] [659.80223037 659.80223037] [2.24666357e+09 2.24666357e+09]\n",
      "[1068.25635321 2136.51397624] [1399.65187649 1399.65187649] [4.76589169e+09 4.76589169e+09]\n",
      "[2266.1132741  4532.23028094] [2969.10958841 2969.10958841] [1.01099808e+10 1.01099808e+10]\n",
      "[4807.15211306 9614.3120828 ] [6298.43244552 6298.43244552] [2.14465057e+10 2.14465057e+10]\n",
      "[10197.50749823 20395.0366872 ] [13360.99235638 13360.99235638] [4.54949062e+10 4.54949062e+10]\n",
      "[21632.17790484 43264.40049328] [28342.9414264 28342.9414264] [9.65092689e+10 9.65092689e+10]\n",
      "[45888.76809579 91777.64449019] [60124.44977253 60124.44977253] [2.04727071e+11 2.04727071e+11]\n",
      "[ 97344.76122728 194689.76656706] [127543.2036645 127543.2036645] [4.34291725e+11 4.34291725e+11]\n",
      "[206499.38413673 412999.34626713] [270559.96884534 270559.96884534] [9.21271953e+11 9.21271953e+11]\n",
      "[438051.28920356 876103.94099175] [573944.35321569 573944.35321569] [1.95431336e+12 1.95431336e+12]\n",
      "[ 929246.92300433 1858497.06841099] [1217519.73079011 1217519.73079011] [4.14572538e+12 4.14572538e+12]\n",
      "[1971230.60281331 3942467.6054011 ] [2582749.44636635 2582749.44636635] [8.79441214e+12 8.79441214e+12]\n"
     ]
    }
   ],
   "source": [
    "for i in range(20):\n",
    "    print(np.abs(v1s[i]),np.abs(v2s[i]), np.abs(vvr[i]), np.abs(vvc[i]))"
   ]
  },
  {
   "cell_type": "code",
   "execution_count": null,
   "id": "31762168-7594-43dc-811a-979520852364",
   "metadata": {},
   "outputs": [],
   "source": []
  }
 ],
 "metadata": {
  "kernelspec": {
   "display_name": "Python 3 (ipykernel)",
   "language": "python",
   "name": "python3"
  },
  "language_info": {
   "codemirror_mode": {
    "name": "ipython",
    "version": 3
   },
   "file_extension": ".py",
   "mimetype": "text/x-python",
   "name": "python",
   "nbconvert_exporter": "python",
   "pygments_lexer": "ipython3",
   "version": "3.9.6"
  }
 },
 "nbformat": 4,
 "nbformat_minor": 5
}
