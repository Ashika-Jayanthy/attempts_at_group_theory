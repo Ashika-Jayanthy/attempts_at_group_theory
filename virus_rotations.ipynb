{
 "cells": [
  {
   "cell_type": "code",
   "execution_count": 75,
   "id": "294f03d4-fa9b-4a42-8a54-f53e79df306f",
   "metadata": {},
   "outputs": [],
   "source": [
    "import numpy as np\n",
    "import matplotlib.pyplot as plt\n",
    "import holoviews as hv\n",
    "import seaborn as sns\n",
    "import pickle as pkl\n",
    "from core import *"
   ]
  },
  {
   "cell_type": "code",
   "execution_count": 76,
   "id": "3209e8a4-9345-4d26-be19-b02179a26c69",
   "metadata": {},
   "outputs": [],
   "source": [
    "background_dir = \"./Data/background_yarrays\"\n",
    "virus_dir = \"./Data/yarrays\""
   ]
  },
  {
   "cell_type": "code",
   "execution_count": 90,
   "id": "87c33df2-9bc2-4e49-9b5a-453d113142ee",
   "metadata": {},
   "outputs": [
    {
     "data": {
      "text/plain": [
       "array([[[0.50000012-0.50000001j, 1.00000001-1.00000026j],\n",
       "        [0.50000012-0.50000001j, 1.00000001-1.00000026j]],\n",
       "\n",
       "       [[0.50000027+0.50000018j, 1.00000001+1.00000008j],\n",
       "        [0.50000027+0.50000018j, 1.00000001+1.00000008j]],\n",
       "\n",
       "       [[0.50000024-0.4999999j , 1.00000001-1.00000012j],\n",
       "        [0.50000024-0.4999999j , 1.00000001-1.00000012j]],\n",
       "\n",
       "       [[0.50000022+0.49999976j, 0.99999977+1.00000019j],\n",
       "        [0.50000022+0.49999976j, 0.99999977+1.00000019j]],\n",
       "\n",
       "       [[0.50000011-0.49999971j, 0.99999955-1.00000006j],\n",
       "        [0.50000011-0.49999971j, 0.99999955-1.00000006j]],\n",
       "\n",
       "       [[0.50000033+0.49999986j, 0.99999946+1.0000001j ],\n",
       "        [0.50000033+0.49999986j, 0.99999946+1.0000001j ]],\n",
       "\n",
       "       [[0.50000025-0.49999992j, 0.9999992 -1.00000006j],\n",
       "        [0.50000025-0.49999992j, 0.9999992 -1.00000006j]],\n",
       "\n",
       "       [[0.50000001+0.49999991j, 0.9999991 +0.99999994j],\n",
       "        [0.50000001+0.49999991j, 0.9999991 +0.99999994j]],\n",
       "\n",
       "       [[0.50000013-0.50000005j, 0.99999888-0.99999999j],\n",
       "        [0.50000013-0.50000005j, 0.99999888-0.99999999j]],\n",
       "\n",
       "       [[0.50000023+0.49999992j, 0.99999908+0.99999987j],\n",
       "        [0.50000023+0.49999992j, 0.99999908+0.99999987j]],\n",
       "\n",
       "       [[0.50000046-0.49999994j, 0.99999897-0.99999998j],\n",
       "        [0.50000046-0.49999994j, 0.99999897-0.99999998j]],\n",
       "\n",
       "       [[0.50000037+0.50000001j, 0.99999908+1.00000022j],\n",
       "        [0.50000037+0.50000001j, 0.99999908+1.00000022j]],\n",
       "\n",
       "       [[0.50000045-0.50000024j, 0.99999894-1.0000002j ],\n",
       "        [0.50000045-0.50000024j, 0.99999894-1.0000002j ]],\n",
       "\n",
       "       [[0.50000072+0.50000018j, 0.99999887+1.0000002j ],\n",
       "        [0.50000072+0.50000018j, 0.99999887+1.0000002j ]],\n",
       "\n",
       "       [[0.5000009 -0.50000008j, 0.99999894-1.00000002j],\n",
       "        [0.5000009 -0.50000008j, 0.99999894-1.00000002j]],\n",
       "\n",
       "       [[0.50000078+0.50000014j, 0.99999897+1.00000027j],\n",
       "        [0.50000078+0.50000014j, 0.99999897+1.00000027j]],\n",
       "\n",
       "       [[0.50000104-0.50000005j, 0.99999891-1.00000026j],\n",
       "        [0.50000104-0.50000005j, 0.99999891-1.00000026j]],\n",
       "\n",
       "       [[0.50000117+0.50000004j, 0.99999917+1.00000026j],\n",
       "        [0.50000117+0.50000004j, 0.99999917+1.00000026j]],\n",
       "\n",
       "       [[0.50000115-0.50000022j, 0.99999897-1.00000016j],\n",
       "        [0.50000115-0.50000022j, 0.99999897-1.00000016j]],\n",
       "\n",
       "       [[0.50000095+0.50000003j, 0.99999902+1.00000019j],\n",
       "        [0.50000095+0.50000003j, 0.99999902+1.00000019j]]])"
      ]
     },
     "execution_count": 90,
     "metadata": {},
     "output_type": "execute_result"
    }
   ],
   "source": [
    "with open(f\"{background_dir}/background_all_y.pkl\",'rb') as infile:\n",
    "    background_yarrays = pkl.load(infile)\n",
    "with open(f\"{virus_dir}/virus_all_y.pkl\",'rb') as infile:\n",
    "    virus_yarrays = pkl.load(infile)"
   ]
  },
  {
   "cell_type": "code",
   "execution_count": 78,
   "id": "0ecdafb5-342b-4489-ad7a-aee7b0d8130c",
   "metadata": {},
   "outputs": [],
   "source": [
    "y0 = np.array([[complex(0.5,0.5),complex(1,1)],[complex(0.5,0.5),complex(1,1)]])\n",
    "\n",
    "all_y = np.zeros((10,20,2,2),dtype=\"complex128\")\n",
    "\n",
    "for i in range(10):\n",
    "\n",
    "    def Y(y,t):\n",
    "        seq = DNA(5)\n",
    "        alg = Sequence(seq).run()\n",
    "        y_t = matrix_multiply(y,expm(alg))\n",
    "        return y_t\n",
    "\n",
    "    y_array = np.zeros((20,2,2),dtype=\"complex128\")\n",
    "    y = y0\n",
    "    for n in range(20):\n",
    "        y = rkmk_step(Y,y,n)\n",
    "        y_array[n] = y\n",
    "\n",
    "    all_y[i-1] = y_array"
   ]
  },
  {
   "cell_type": "code",
   "execution_count": 79,
   "id": "5bc8b1f1-d6cf-4a32-adde-eb2433e1a183",
   "metadata": {},
   "outputs": [],
   "source": [
    "def matrix_vector_multiply(m,v,vector_type=\"row\"):\n",
    "    if vector_type == \"row\":\n",
    "        return np.array([np.vdot(v,i) for i in m.T])\n",
    "    elif vector_type == \"column\":\n",
    "        return np.array([np.vdot(i,v) for i in m])\n",
    "\n",
    "def vector_multiply(v1,v2):\n",
    "    return np.vdot(v1,v2)"
   ]
  },
  {
   "cell_type": "code",
   "execution_count": 80,
   "id": "2ce07c19-e4f9-4c6d-8a98-7ae9bb57484f",
   "metadata": {},
   "outputs": [],
   "source": [
    "def random_complex_vector(n_components=2):\n",
    "    vals = np.random.rand(n_components,2)\n",
    "    vector = np.zeros(n_components,dtype=\"complex128\")\n",
    "    for i in range(n_components):\n",
    "        vector[i] = complex(vals[i,0],vals[i,1])\n",
    "    return vector"
   ]
  },
  {
   "cell_type": "code",
   "execution_count": 81,
   "id": "00b022a5-7a92-45c3-a321-bcbeffb466c8",
   "metadata": {},
   "outputs": [
    {
     "data": {
      "text/plain": [
       "array([0.86790372+0.92062319j, 0.67220254+0.3856258j ])"
      ]
     },
     "execution_count": 81,
     "metadata": {},
     "output_type": "execute_result"
    }
   ],
   "source": [
    "random_complex_vector()"
   ]
  },
  {
   "cell_type": "code",
   "execution_count": 82,
   "id": "470eb051-f1e8-475d-9abe-9407e4bf44fe",
   "metadata": {},
   "outputs": [
    {
     "data": {
      "text/plain": [
       "(20, 2, 2)"
      ]
     },
     "execution_count": 82,
     "metadata": {},
     "output_type": "execute_result"
    }
   ],
   "source": [
    "all_y[0].shape"
   ]
  },
  {
   "cell_type": "code",
   "execution_count": 83,
   "id": "237ca592-4068-45cb-8640-a5dfb2084587",
   "metadata": {},
   "outputs": [],
   "source": [
    "v1 = random_complex_vector()\n",
    "v2 = v1\n",
    "vv = v1\n",
    "v1s = []\n",
    "v2s = []\n",
    "vvs = []"
   ]
  },
  {
   "cell_type": "code",
   "execution_count": 84,
   "id": "249e03ed-5f06-47b0-a711-c1d3f7aa95a6",
   "metadata": {},
   "outputs": [
    {
     "name": "stdout",
     "output_type": "stream",
     "text": [
      "[0.22105845-0.97305926j 0.44211685-1.94611872j]\n",
      "[-1.12800156+1.79117658j -2.2560023 +3.58235347j]\n",
      "[-4.37876683-0.99476245j -8.75753448-1.9895276j ]\n",
      "[ -8.0602957  -5.0760065j  -16.12059485-10.15200962j]\n",
      "[-4.47643991+19.70445496j -8.95288165+39.40890904j]\n",
      "[22.84201902-36.27134799j 45.68404681-72.54269323j]\n",
      "[ 88.67004691+20.14400715j 177.34012868+40.28799037j]\n",
      "[163.22106275+102.78904499j 326.44221156+205.57819811j]\n",
      "[ 90.64807305-399.01512301j 181.29611094-798.03068969j]\n",
      "[-462.55060204 +734.49471277j -925.10170115+1468.99033184j]\n",
      "[-1795.56748318-407.91589759j -3591.13779675-815.83302727j]\n",
      "[-3305.22461301-2081.47798983j -6610.45643983-4162.95650453j]\n",
      "[-1835.62115135 +8080.05189991j -3671.25039113+16160.12003609j]\n",
      "[ 9366.64586557-14873.5076218j  18733.3024217 -29747.05141838j]\n",
      "[36360.21964956 +8260.29897895j 72720.52263876+16520.62833093j]\n",
      "[ 66930.7704591 +42149.86837803j 133861.72432992+84299.81773382j]\n",
      "[37171.35587633-163620.92580504j 74342.9240688 -327242.28498906j]\n",
      "[-189674.31037248+301188.39745921j -379348.91961108+602377.91512097j]\n",
      "[ -736293.87149622-167271.277411j   -1472590.19822781-334543.56648571j]\n",
      "[-1355347.86189377 -853533.97740933j -2710700.88182379-1707069.52259457j]\n"
     ]
    }
   ],
   "source": [
    "for i in all_y[0]:\n",
    "    v1 = matrix_vector_multiply(i,v1)\n",
    "    v1s.append(v1)\n",
    "    print(v1)"
   ]
  },
  {
   "cell_type": "code",
   "execution_count": 85,
   "id": "25c25d71-735b-4bdb-9c68-b55d341af49a",
   "metadata": {},
   "outputs": [
    {
     "name": "stdout",
     "output_type": "stream",
     "text": [
      "[0.57228208+1.55750041j 0.57228208+1.55750041j]\n",
      "[3.1946737+1.47782761j 3.1946737+1.47782761j]\n",
      "[2.57526958+7.00875216j 2.57526958+7.00875216j]\n",
      "[14.37603332+6.65022573j 14.37603332+6.65022573j]\n",
      "[11.58871711+31.53939005j 11.58871711+31.53939005j]\n",
      "[64.69216564+29.92601474j 64.69216564+29.92601474j]\n",
      "[52.14924635+141.92727638j 52.14924635+141.92727638j]\n",
      "[291.11477735+134.6670591j 291.11477735+134.6670591j]\n",
      "[234.6716554+638.67276502j 234.6716554+638.67276502j]\n",
      "[1310.01658054+606.00172968j 1310.01658054+606.00172968j]\n",
      "[1056.02212056+2874.0270709j 1056.02212056+2874.0270709j]\n",
      "[5895.07369268+2727.00731879j 5895.07369268+2727.00731879j]\n",
      "[4752.10039941+12933.12063464j 4752.10039941+12933.12063464j]\n",
      "[26527.82861651+12271.52817503j 26527.82861651+12271.52817503j]\n",
      "[21384.45547733+58199.02411062j 21384.45547733+58199.02411062j]\n",
      "[119375.19957765+55221.85944993j 119375.19957765+55221.85944993j]\n",
      "[96230.04267389+261895.55048995j 96230.04267389+261895.55048995j]\n",
      "[537188.33549022+248498.34745032j 537188.33549022+248498.34745032j]\n",
      "[433035.08562471+1178529.87456018j 433035.08562471+1178529.87456018j]\n",
      "[2417347.39537696+1118242.4591741j 2417347.39537696+1118242.4591741j]\n"
     ]
    }
   ],
   "source": [
    "for i in all_y[0]:\n",
    "    v2 = matrix_vector_multiply(i,v2,\"column\")\n",
    "    v2s.append(v2)\n",
    "    print(v2)"
   ]
  },
  {
   "cell_type": "code",
   "execution_count": 86,
   "id": "3ac9feff-0680-4919-aa0b-3d18cde19a7a",
   "metadata": {},
   "outputs": [
    {
     "name": "stdout",
     "output_type": "stream",
     "text": [
      "[0.99785328 1.99570674]\n",
      "[2.11676665 4.23353313]\n",
      "[4.49033978 8.98068095]\n",
      "[ 9.52545058 19.05090228]\n",
      "[20.20653507 40.41306968]\n",
      "[42.86453683 85.72907602]\n",
      "[ 90.92941352 181.85885573]\n",
      "[192.8903914  385.78091325]\n",
      "[409.182284   818.36499285]\n",
      "[ 868.0066489  1736.01432958]\n",
      "[1841.31962629 3682.64228559]\n",
      "[3906.0287204  7812.06382472]\n",
      "[ 8285.93650208 16571.89062887]\n",
      "[17577.12387584 35154.28405913]\n",
      "[37286.70154608 74573.49108969]\n",
      "[ 79097.0254721  158194.24929666]\n",
      "[167790.09821495 335580.66607593]\n",
      "[355936.50385894 711874.11487957]\n",
      "[ 755055.19364454 1510113.00563686]\n",
      "[1601714.10599152 3203433.41208952]\n"
     ]
    }
   ],
   "source": [
    "for i in range(20):\n",
    "    print(np.abs(v1s[i],np.abs(v2s[i])))"
   ]
  },
  {
   "cell_type": "code",
   "execution_count": 87,
   "id": "0710d231-adbe-44dc-9ba3-f0c32644bf9d",
   "metadata": {},
   "outputs": [
    {
     "data": {
      "text/plain": [
       "[<matplotlib.lines.Line2D at 0x7f948b836f70>,\n",
       " <matplotlib.lines.Line2D at 0x7f948b836fa0>]"
      ]
     },
     "execution_count": 87,
     "metadata": {},
     "output_type": "execute_result"
    },
    {
     "data": {
      "image/png": "[encoded data removed]",
      "text/plain": [
       "<Figure size 432x288 with 1 Axes>"
      ]
     },
     "metadata": {
      "needs_background": "light"
     },
     "output_type": "display_data"
    }
   ],
   "source": [
    "plt.plot(np.arange(0,20),np.abs(v1s))"
   ]
  },
  {
   "cell_type": "code",
   "execution_count": 88,
   "id": "f0e69ece-f77e-42d5-b57f-79ff96a380ba",
   "metadata": {},
   "outputs": [
    {
     "data": {
      "text/plain": [
       "[<matplotlib.lines.Line2D at 0x7f948b982be0>,\n",
       " <matplotlib.lines.Line2D at 0x7f948b982c10>]"
      ]
     },
     "execution_count": 88,
     "metadata": {},
     "output_type": "execute_result"
    },
    {
     "data": {
      "image/png": "[encoded data removed]",
      "text/plain": [
       "<Figure size 432x288 with 1 Axes>"
      ]
     },
     "metadata": {
      "needs_background": "light"
     },
     "output_type": "display_data"
    }
   ],
   "source": [
    "plt.plot(np.arange(0,20),np.abs(v2s))"
   ]
  },
  {
   "cell_type": "code",
   "execution_count": 91,
   "id": "20fd7880-b8a1-456f-8879-d7311141a3ef",
   "metadata": {},
   "outputs": [
    {
     "name": "stdout",
     "output_type": "stream",
     "text": [
      "[[0.50000012-0.50000001j 1.00000001-1.00000026j]\n",
      " [0.50000012-0.50000001j 1.00000001-1.00000026j]]\n"
     ]
    },
    {
     "ename": "ValueError",
     "evalue": "cannot reshape array of size 0 into shape (2,)",
     "output_type": "error",
     "traceback": [
      "\u001b[0;31m---------------------------------------------------------------------------\u001b[0m",
      "\u001b[0;31mValueError\u001b[0m                                Traceback (most recent call last)",
      "\u001b[0;32m/var/folders/qv/3rrthtdd1796jrbkf43yqr7w0000gp/T/ipykernel_8625/88952703.py\u001b[0m in \u001b[0;36m<module>\u001b[0;34m\u001b[0m\n\u001b[1;32m      2\u001b[0m \u001b[0;32mfor\u001b[0m \u001b[0mi\u001b[0m \u001b[0;32min\u001b[0m \u001b[0mvirus_yarrays\u001b[0m\u001b[0;34m[\u001b[0m\u001b[0;36m0\u001b[0m\u001b[0;34m]\u001b[0m\u001b[0;34m:\u001b[0m\u001b[0;34m\u001b[0m\u001b[0;34m\u001b[0m\u001b[0m\n\u001b[1;32m      3\u001b[0m     \u001b[0mprint\u001b[0m\u001b[0;34m(\u001b[0m\u001b[0mi\u001b[0m\u001b[0;34m)\u001b[0m\u001b[0;34m\u001b[0m\u001b[0;34m\u001b[0m\u001b[0m\n\u001b[0;32m----> 4\u001b[0;31m     \u001b[0mvv\u001b[0m \u001b[0;34m=\u001b[0m \u001b[0mmatrix_vector_multiply\u001b[0m\u001b[0;34m(\u001b[0m\u001b[0mi\u001b[0m\u001b[0;34m,\u001b[0m\u001b[0mvv\u001b[0m\u001b[0;34m,\u001b[0m\u001b[0;34m\"column\"\u001b[0m\u001b[0;34m)\u001b[0m\u001b[0;34m\u001b[0m\u001b[0;34m\u001b[0m\u001b[0m\n\u001b[0m\u001b[1;32m      5\u001b[0m     \u001b[0mvvs\u001b[0m\u001b[0;34m.\u001b[0m\u001b[0mappend\u001b[0m\u001b[0;34m(\u001b[0m\u001b[0mvv\u001b[0m\u001b[0;34m)\u001b[0m\u001b[0;34m\u001b[0m\u001b[0;34m\u001b[0m\u001b[0m\n\u001b[1;32m      6\u001b[0m     \u001b[0mprint\u001b[0m\u001b[0;34m(\u001b[0m\u001b[0mvv\u001b[0m\u001b[0;34m)\u001b[0m\u001b[0;34m\u001b[0m\u001b[0;34m\u001b[0m\u001b[0m\n",
      "\u001b[0;32m/var/folders/qv/3rrthtdd1796jrbkf43yqr7w0000gp/T/ipykernel_8625/3187278926.py\u001b[0m in \u001b[0;36mmatrix_vector_multiply\u001b[0;34m(m, v, vector_type)\u001b[0m\n\u001b[1;32m      3\u001b[0m         \u001b[0;32mreturn\u001b[0m \u001b[0mnp\u001b[0m\u001b[0;34m.\u001b[0m\u001b[0marray\u001b[0m\u001b[0;34m(\u001b[0m\u001b[0;34m[\u001b[0m\u001b[0mnp\u001b[0m\u001b[0;34m.\u001b[0m\u001b[0mvdot\u001b[0m\u001b[0;34m(\u001b[0m\u001b[0mv\u001b[0m\u001b[0;34m,\u001b[0m\u001b[0mi\u001b[0m\u001b[0;34m)\u001b[0m \u001b[0;32mfor\u001b[0m \u001b[0mi\u001b[0m \u001b[0;32min\u001b[0m \u001b[0mm\u001b[0m\u001b[0;34m.\u001b[0m\u001b[0mT\u001b[0m\u001b[0;34m]\u001b[0m\u001b[0;34m)\u001b[0m\u001b[0;34m\u001b[0m\u001b[0;34m\u001b[0m\u001b[0m\n\u001b[1;32m      4\u001b[0m     \u001b[0;32melif\u001b[0m \u001b[0mvector_type\u001b[0m \u001b[0;34m==\u001b[0m \u001b[0;34m\"column\"\u001b[0m\u001b[0;34m:\u001b[0m\u001b[0;34m\u001b[0m\u001b[0;34m\u001b[0m\u001b[0m\n\u001b[0;32m----> 5\u001b[0;31m         \u001b[0;32mreturn\u001b[0m \u001b[0mnp\u001b[0m\u001b[0;34m.\u001b[0m\u001b[0marray\u001b[0m\u001b[0;34m(\u001b[0m\u001b[0;34m[\u001b[0m\u001b[0mnp\u001b[0m\u001b[0;34m.\u001b[0m\u001b[0mvdot\u001b[0m\u001b[0;34m(\u001b[0m\u001b[0mi\u001b[0m\u001b[0;34m,\u001b[0m\u001b[0mv\u001b[0m\u001b[0;34m)\u001b[0m \u001b[0;32mfor\u001b[0m \u001b[0mi\u001b[0m \u001b[0;32min\u001b[0m \u001b[0mm\u001b[0m\u001b[0;34m]\u001b[0m\u001b[0;34m)\u001b[0m\u001b[0;34m\u001b[0m\u001b[0;34m\u001b[0m\u001b[0m\n\u001b[0m\u001b[1;32m      6\u001b[0m \u001b[0;34m\u001b[0m\u001b[0m\n\u001b[1;32m      7\u001b[0m \u001b[0;32mdef\u001b[0m \u001b[0mvector_multiply\u001b[0m\u001b[0;34m(\u001b[0m\u001b[0mv1\u001b[0m\u001b[0;34m,\u001b[0m\u001b[0mv2\u001b[0m\u001b[0;34m)\u001b[0m\u001b[0;34m:\u001b[0m\u001b[0;34m\u001b[0m\u001b[0;34m\u001b[0m\u001b[0m\n",
      "\u001b[0;32m/var/folders/qv/3rrthtdd1796jrbkf43yqr7w0000gp/T/ipykernel_8625/3187278926.py\u001b[0m in \u001b[0;36m<listcomp>\u001b[0;34m(.0)\u001b[0m\n\u001b[1;32m      3\u001b[0m         \u001b[0;32mreturn\u001b[0m \u001b[0mnp\u001b[0m\u001b[0;34m.\u001b[0m\u001b[0marray\u001b[0m\u001b[0;34m(\u001b[0m\u001b[0;34m[\u001b[0m\u001b[0mnp\u001b[0m\u001b[0;34m.\u001b[0m\u001b[0mvdot\u001b[0m\u001b[0;34m(\u001b[0m\u001b[0mv\u001b[0m\u001b[0;34m,\u001b[0m\u001b[0mi\u001b[0m\u001b[0;34m)\u001b[0m \u001b[0;32mfor\u001b[0m \u001b[0mi\u001b[0m \u001b[0;32min\u001b[0m \u001b[0mm\u001b[0m\u001b[0;34m.\u001b[0m\u001b[0mT\u001b[0m\u001b[0;34m]\u001b[0m\u001b[0;34m)\u001b[0m\u001b[0;34m\u001b[0m\u001b[0;34m\u001b[0m\u001b[0m\n\u001b[1;32m      4\u001b[0m     \u001b[0;32melif\u001b[0m \u001b[0mvector_type\u001b[0m \u001b[0;34m==\u001b[0m \u001b[0;34m\"column\"\u001b[0m\u001b[0;34m:\u001b[0m\u001b[0;34m\u001b[0m\u001b[0;34m\u001b[0m\u001b[0m\n\u001b[0;32m----> 5\u001b[0;31m         \u001b[0;32mreturn\u001b[0m \u001b[0mnp\u001b[0m\u001b[0;34m.\u001b[0m\u001b[0marray\u001b[0m\u001b[0;34m(\u001b[0m\u001b[0;34m[\u001b[0m\u001b[0mnp\u001b[0m\u001b[0;34m.\u001b[0m\u001b[0mvdot\u001b[0m\u001b[0;34m(\u001b[0m\u001b[0mi\u001b[0m\u001b[0;34m,\u001b[0m\u001b[0mv\u001b[0m\u001b[0;34m)\u001b[0m \u001b[0;32mfor\u001b[0m \u001b[0mi\u001b[0m \u001b[0;32min\u001b[0m \u001b[0mm\u001b[0m\u001b[0;34m]\u001b[0m\u001b[0;34m)\u001b[0m\u001b[0;34m\u001b[0m\u001b[0;34m\u001b[0m\u001b[0m\n\u001b[0m\u001b[1;32m      6\u001b[0m \u001b[0;34m\u001b[0m\u001b[0m\n\u001b[1;32m      7\u001b[0m \u001b[0;32mdef\u001b[0m \u001b[0mvector_multiply\u001b[0m\u001b[0;34m(\u001b[0m\u001b[0mv1\u001b[0m\u001b[0;34m,\u001b[0m\u001b[0mv2\u001b[0m\u001b[0;34m)\u001b[0m\u001b[0;34m:\u001b[0m\u001b[0;34m\u001b[0m\u001b[0;34m\u001b[0m\u001b[0m\n",
      "\u001b[0;32m<__array_function__ internals>\u001b[0m in \u001b[0;36mvdot\u001b[0;34m(*args, **kwargs)\u001b[0m\n",
      "\u001b[0;31mValueError\u001b[0m: cannot reshape array of size 0 into shape (2,)"
     ]
    }
   ],
   "source": [
    "vvs = []\n",
    "for i in virus_yarrays[0]:\n",
    "    print(i)\n",
    "    vv = matrix_vector_multiply(i,vv,\"column\")\n",
    "    vvs.append(vv)\n",
    "    print(vv)"
   ]
  },
  {
   "cell_type": "code",
   "execution_count": null,
   "id": "08af1a0f-eb2c-40d9-a0c3-db31c12ff2a3",
   "metadata": {},
   "outputs": [],
   "source": []
  }
 ],
 "metadata": {
  "kernelspec": {
   "display_name": "Python 3 (ipykernel)",
   "language": "python",
   "name": "python3"
  },
  "language_info": {
   "codemirror_mode": {
    "name": "ipython",
    "version": 3
   },
   "file_extension": ".py",
   "mimetype": "text/x-python",
   "name": "python",
   "nbconvert_exporter": "python",
   "pygments_lexer": "ipython3",
   "version": "3.9.6"
  }
 },
 "nbformat": 4,
 "nbformat_minor": 5
}
