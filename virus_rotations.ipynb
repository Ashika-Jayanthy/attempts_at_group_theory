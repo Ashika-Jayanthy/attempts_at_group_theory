{
 "cells": [
  {
   "cell_type": "code",
   "execution_count": 15,
   "id": "294f03d4-fa9b-4a42-8a54-f53e79df306f",
   "metadata": {},
   "outputs": [],
   "source": [
    "import numpy as np\n",
    "import matplotlib.pyplot as plt\n",
    "import holoviews as hv\n",
    "import seaborn as sns\n",
    "import pickle as pkl\n",
    "from core import *"
   ]
  },
  {
   "cell_type": "code",
   "execution_count": 16,
   "id": "3209e8a4-9345-4d26-be19-b02179a26c69",
   "metadata": {},
   "outputs": [],
   "source": [
    "background_dir = \"./Data/background_yarrays\"\n",
    "virus_dir = \"./Data/yarrays\""
   ]
  },
  {
   "cell_type": "code",
   "execution_count": 17,
   "id": "87c33df2-9bc2-4e49-9b5a-453d113142ee",
   "metadata": {},
   "outputs": [],
   "source": [
    "with open(f\"{background_dir}/background_all_y.pkl\",'rb') as infile:\n",
    "    background_yarrays = pkl.load(infile)\n",
    "with open(f\"{virus_dir}/virus_all_y.pkl\",'rb') as infile:\n",
    "    virus_yarrays = pkl.load(infile)"
   ]
  },
  {
   "cell_type": "code",
   "execution_count": 18,
   "id": "0ecdafb5-342b-4489-ad7a-aee7b0d8130c",
   "metadata": {},
   "outputs": [],
   "source": [
    "y0 = np.array([[complex(0.5,0.5),complex(1,1)],[complex(0.5,0.5),complex(1,1)]])\n",
    "\n",
    "all_y = np.zeros((10,20,2,2),dtype=\"complex128\")\n",
    "\n",
    "for i in range(10):\n",
    "\n",
    "    def Y(y,t):\n",
    "        seq = DNA(5)\n",
    "        alg = Sequence(seq).run()\n",
    "        y_t = matrix_multiply(y,expm(alg))\n",
    "        return y_t\n",
    "\n",
    "    y_array = np.zeros((20,2,2),dtype=\"complex128\")\n",
    "    y = y0\n",
    "    for n in range(20):\n",
    "        y = rkmk_step(Y,y,n)\n",
    "        y_array[n] = y\n",
    "\n",
    "    all_y[i-1] = y_array"
   ]
  },
  {
   "cell_type": "code",
   "execution_count": 20,
   "id": "5bc8b1f1-d6cf-4a32-adde-eb2433e1a183",
   "metadata": {},
   "outputs": [],
   "source": [
    "def matrix_vector_multiply(m,v,vector_type=\"row\"):\n",
    "    if vector_type == \"row\":\n",
    "        return np.array([np.vdot(v,i) for i in m.T])\n",
    "    elif vector_type == \"column\":\n",
    "        return np.array([np.vdot(i,v) for i in m])\n",
    "\n",
    "def vector_multiply(v1,v2):\n",
    "    return np.vdot(v1,v2)"
   ]
  },
  {
   "cell_type": "code",
   "execution_count": 29,
   "id": "2ce07c19-e4f9-4c6d-8a98-7ae9bb57484f",
   "metadata": {},
   "outputs": [],
   "source": [
    "def random_complex_vector(n_components=2):\n",
    "    vals = np.random.rand(n_components,2)\n",
    "    vector = np.zeros(n_components,dtype=\"complex128\")\n",
    "    for i in range(n_components):\n",
    "        vector[i] = complex(vals[i,0],vals[i,1])\n",
    "    return vector"
   ]
  },
  {
   "cell_type": "code",
   "execution_count": 32,
   "id": "00b022a5-7a92-45c3-a321-bcbeffb466c8",
   "metadata": {},
   "outputs": [
    {
     "data": {
      "text/plain": [
       "array([0.7657402+0.96920554j, 0.8625422+0.42618332j])"
      ]
     },
     "execution_count": 32,
     "metadata": {},
     "output_type": "execute_result"
    }
   ],
   "source": [
    "random_complex_vector()"
   ]
  },
  {
   "cell_type": "code",
   "execution_count": 33,
   "id": "470eb051-f1e8-475d-9abe-9407e4bf44fe",
   "metadata": {},
   "outputs": [
    {
     "data": {
      "text/plain": [
       "(20, 2, 2)"
      ]
     },
     "execution_count": 33,
     "metadata": {},
     "output_type": "execute_result"
    }
   ],
   "source": [
    "all_y[0].shape"
   ]
  },
  {
   "cell_type": "code",
   "execution_count": 48,
   "id": "237ca592-4068-45cb-8640-a5dfb2084587",
   "metadata": {},
   "outputs": [],
   "source": [
    "v1 = random_complex_vector()\n",
    "v2 = v1\n",
    "v1s = []\n",
    "v2s = []"
   ]
  },
  {
   "cell_type": "code",
   "execution_count": 49,
   "id": "249e03ed-5f06-47b0-a711-c1d3f7aa95a6",
   "metadata": {},
   "outputs": [
    {
     "name": "stdout",
     "output_type": "stream",
     "text": [
      "[-0.0557117 -1.49704608j -0.11142382-2.99409296j]\n",
      "[-2.32913716+2.16200135j -4.65827519+4.32400316j]\n",
      "[ -6.73670731+0.25070385j -13.47341783+0.50140787j]\n",
      "[ -9.72900214-10.48111945j -19.45801325-20.96223923j]\n",
      "[1.12818056+30.31517197j 2.25634669+60.63037186j]\n",
      "[47.16503505-43.7804538j 94.33008298-87.5610165j]\n",
      "[136.41819368 -5.07689123j 272.83659434-10.15366788j]\n",
      "[197.01186618+212.24269816j 394.02428417+424.48540839j]\n",
      "[-22.84630145 -613.88178211j -45.69192796-1227.7644552j ]\n",
      "[ -955.0923317  +886.55287227j -1910.18484274+1773.1080954j ]\n",
      "[-2762.4671771 +102.80982521j -5524.93908556+205.6167994j ]\n",
      "[-3989.48353548-4297.91613095j -7978.97966805-8595.8342401j ]\n",
      "[462.6522029 +12431.09409486j 925.29000997+24862.21581346j]\n",
      "[19340.62290904-17952.64742401j 38681.25541653-35905.3663748j ]\n",
      "[ 55939.87622976-2081.99237208j 111879.8869578 -4163.87226509j]\n",
      "[ 80786.75084222 +87032.81869625j 161573.91302986+174065.63005891j]\n",
      "[ -9369.22524433-251729.2313889j  -18737.74128927-503459.12866044j]\n",
      "[-391647.67725072+363539.54583745j -783295.32022311+727081.52789789j]\n",
      "[-1132780.16236405+42162.41623636j -2265564.38690938+84321.62385641j]\n",
      "[-1635925.25537239-1762414.01737943j -3271861.58769654-3524828.3749107j ]\n"
     ]
    }
   ],
   "source": [
    "for i in all_y[0]:\n",
    "    v1 = matrix_vector_multiply(i,v1)\n",
    "    v1s.append(v1)\n",
    "    print(v1)"
   ]
  },
  {
   "cell_type": "code",
   "execution_count": 50,
   "id": "25c25d71-735b-4bdb-9c68-b55d341af49a",
   "metadata": {},
   "outputs": [
    {
     "name": "stdout",
     "output_type": "stream",
     "text": [
      "[-0.11025518+2.0621873j -0.11025518+2.0621873j]\n",
      "[2.92789844+3.25866339j 2.92789844+3.25866339j]\n",
      "[-0.49614739+9.27984267j -0.49614739+9.27984267j]\n",
      "[13.17554468+14.66398308j 13.17554468+14.66398308j]\n",
      "[-2.23266314+41.7592836j -2.23266314+41.7592836j]\n",
      "[59.28993819+65.98789561j 59.28993819+65.98789561j]\n",
      "[-10.04697563+187.91670663j -10.04697563+187.91670663j]\n",
      "[266.80464382+296.94543863j 266.80464382+296.94543863j]\n",
      "[-45.21132669+845.62505345j -45.21132669+845.62505345j]\n",
      "[1200.62085064+1336.25411209j 1200.62085064+1336.25411209j]\n",
      "[-203.45094847+3805.31199014j -203.45094847+3805.31199014j]\n",
      "[5402.79229852+6013.14158941j 5402.79229852+6013.14158941j]\n",
      "[-915.52912442+17123.89594366j -915.52912442+17123.89594366j]\n",
      "[24312.55186409+27059.12033552j 24312.55186409+27059.12033552j]\n",
      "[-4119.88332039+77057.47333601j -4119.88332039+77057.47333601j]\n",
      "[109406.39588401+121765.95109552j 109406.39588401+121765.95109552j]\n",
      "[-18539.46339186+346758.37639605j -18539.46339186+346758.37639605j]\n",
      "[492328.415253+547946.29480915j 492328.415253+547946.29480915j]\n",
      "[-83427.33815461+1560411.34088864j -83427.33815461+1560411.34088864j]\n",
      "[2215475.94209155+2465756.20392329j 2215475.94209155+2465756.20392329j]\n"
     ]
    }
   ],
   "source": [
    "for i in all_y[0]:\n",
    "    v2 = matrix_vector_multiply(i,v2,\"column\")\n",
    "    v2s.append(v2)\n",
    "    print(v2)"
   ]
  },
  {
   "cell_type": "code",
   "execution_count": 52,
   "id": "3ac9feff-0680-4919-aa0b-3d18cde19a7a",
   "metadata": {},
   "outputs": [
    {
     "name": "stdout",
     "output_type": "stream",
     "text": [
      "[1.49808236 2.99616554]\n",
      "[3.1779128  6.35582655]\n",
      "[ 6.74137061 13.48274445]\n",
      "[14.30060655 28.60121943]\n",
      "[30.33615735 60.67234207]\n",
      "[ 64.35268966 128.70546284]\n",
      "[136.51263089 273.02546435]\n",
      "[289.58701342 579.17441108]\n",
      "[ 614.30676042 1228.6143861 ]\n",
      "[1303.14134207 2606.28441491]\n",
      "[2764.3796347  5528.76389145]\n",
      "[ 5864.1335207  11728.27706129]\n",
      "[12439.70045685 24879.42798293]\n",
      "[26388.58169816 52777.21909221]\n",
      "[ 55978.60702839 111957.34427866]\n",
      "[118748.51848279 237497.31143654]\n",
      "[251903.52978338 503807.69861143]\n",
      "[ 534367.76145608 1068737.15519475]\n",
      "[1133564.53966609 2267133.01936209]\n",
      "[2404652.70045816 4809313.18606096]\n"
     ]
    }
   ],
   "source": [
    "for i in range(20):\n",
    "    print(np.abs(v1s[i],np.abs(v2s[i])))"
   ]
  },
  {
   "cell_type": "code",
   "execution_count": 64,
   "id": "0710d231-adbe-44dc-9ba3-f0c32644bf9d",
   "metadata": {},
   "outputs": [
    {
     "data": {
      "text/plain": [
       "[<matplotlib.lines.Line2D at 0x7f948a9fbcd0>,\n",
       " <matplotlib.lines.Line2D at 0x7f948a9fbd00>]"
      ]
     },
     "execution_count": 64,
     "metadata": {},
     "output_type": "execute_result"
    },
    {
     "data": {
      "image/png": "[encoded data removed]",
      "text/plain": [
       "<Figure size 432x288 with 1 Axes>"
      ]
     },
     "metadata": {
      "needs_background": "light"
     },
     "output_type": "display_data"
    }
   ],
   "source": [
    "plt.plot(np.arange(0,20),np.abs(v1s))"
   ]
  },
  {
   "cell_type": "code",
   "execution_count": 65,
   "id": "f0e69ece-f77e-42d5-b57f-79ff96a380ba",
   "metadata": {},
   "outputs": [
    {
     "data": {
      "text/plain": [
       "[<matplotlib.lines.Line2D at 0x7f948ab3cf70>,\n",
       " <matplotlib.lines.Line2D at 0x7f948ab3cfa0>]"
      ]
     },
     "execution_count": 65,
     "metadata": {},
     "output_type": "execute_result"
    },
    {
     "data": {
      "image/png": "[encoded data removed]",
      "text/plain": [
       "<Figure size 432x288 with 1 Axes>"
      ]
     },
     "metadata": {
      "needs_background": "light"
     },
     "output_type": "display_data"
    }
   ],
   "source": [
    "plt.plot(np.arange(0,20),np.abs(v2s))"
   ]
  },
  {
   "cell_type": "code",
   "execution_count": 67,
   "id": "554688f4-98e4-4b4c-9a52-c835dd5d9516",
   "metadata": {},
   "outputs": [
    {
     "data": {
      "text/plain": [
       "[<matplotlib.lines.Line2D at 0x7f948ad3a3a0>]"
      ]
     },
     "execution_count": 67,
     "metadata": {},
     "output_type": "execute_result"
    },
    {
     "data": {
      "image/png": "[encoded data removed]",
      "text/plain": [
       "<Figure size 432x288 with 1 Axes>"
      ]
     },
     "metadata": {
      "needs_background": "light"
     },
     "output_type": "display_data"
    }
   ],
   "source": [
    "plt.plot(np.abs(v1s)[0,:],np.abs(v2s)[0,:])"
   ]
  },
  {
   "cell_type": "code",
   "execution_count": null,
   "id": "20fd7880-b8a1-456f-8879-d7311141a3ef",
   "metadata": {},
   "outputs": [],
   "source": []
  }
 ],
 "metadata": {
  "kernelspec": {
   "display_name": "Python 3 (ipykernel)",
   "language": "python",
   "name": "python3"
  },
  "language_info": {
   "codemirror_mode": {
    "name": "ipython",
    "version": 3
   },
   "file_extension": ".py",
   "mimetype": "text/x-python",
   "name": "python",
   "nbconvert_exporter": "python",
   "pygments_lexer": "ipython3",
   "version": "3.9.6"
  }
 },
 "nbformat": 4,
 "nbformat_minor": 5
}
