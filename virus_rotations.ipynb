{
 "cells": [
  {
   "cell_type": "code",
   "execution_count": 1,
   "id": "294f03d4-fa9b-4a42-8a54-f53e79df306f",
   "metadata": {},
   "outputs": [
    {
     "name": "stderr",
     "output_type": "stream",
     "text": [
      "WARNING:param.main: pandas could not register all extension types imports failed with the following error: cannot import name 'ABCIndexClass' from 'pandas.core.dtypes.generic' (/Library/Frameworks/Python.framework/Versions/3.9/lib/python3.9/site-packages/pandas/core/dtypes/generic.py)\n"
     ]
    }
   ],
   "source": [
    "import numpy as np\n",
    "import matplotlib.pyplot as plt\n",
    "import holoviews as hv\n",
    "import seaborn as sns\n",
    "import pickle as pkl\n",
    "from core import *"
   ]
  },
  {
   "cell_type": "code",
   "execution_count": 2,
   "id": "3209e8a4-9345-4d26-be19-b02179a26c69",
   "metadata": {},
   "outputs": [],
   "source": [
    "background_dir = \"./Data/background_yarrays\"\n",
    "virus_dir = \"./Data/yarrays\""
   ]
  },
  {
   "cell_type": "code",
   "execution_count": 3,
   "id": "87c33df2-9bc2-4e49-9b5a-453d113142ee",
   "metadata": {},
   "outputs": [],
   "source": [
    "with open(f\"{background_dir}/background_all_y.pkl\",'rb') as infile:\n",
    "    background_yarrays = pkl.load(infile)\n",
    "with open(f\"{virus_dir}/virus_all_y.pkl\",'rb') as infile:\n",
    "    virus_yarrays = pkl.load(infile)"
   ]
  },
  {
   "cell_type": "code",
   "execution_count": 78,
   "id": "0ecdafb5-342b-4489-ad7a-aee7b0d8130c",
   "metadata": {},
   "outputs": [],
   "source": [
    "y0 = np.array([[complex(0.5,0.5),complex(1,1)],[complex(0.5,0.5),complex(1,1)]])\n",
    "\n",
    "all_y = np.zeros((10,20,2,2),dtype=\"complex128\")\n",
    "\n",
    "for i in range(10):\n",
    "\n",
    "    def Y(y,t):\n",
    "        seq = DNA(5)\n",
    "        alg = Sequence(seq).run()\n",
    "        y_t = matrix_multiply(y,expm(alg))\n",
    "        return y_t\n",
    "\n",
    "    y_array = np.zeros((20,2,2),dtype=\"complex128\")\n",
    "    y = y0\n",
    "    for n in range(20):\n",
    "        y = rkmk_step(Y,y,n)\n",
    "        y_array[n] = y\n",
    "\n",
    "    all_y[i-1] = y_array"
   ]
  },
  {
   "cell_type": "code",
   "execution_count": 79,
   "id": "5bc8b1f1-d6cf-4a32-adde-eb2433e1a183",
   "metadata": {},
   "outputs": [],
   "source": [
    "def matrix_vector_multiply(m,v,vector_type=\"row\"):\n",
    "    if vector_type == \"row\":\n",
    "        return np.array([np.vdot(v,i) for i in m.T])\n",
    "    elif vector_type == \"column\":\n",
    "        return np.array([np.vdot(i,v) for i in m])\n",
    "\n",
    "def vector_multiply(v1,v2):\n",
    "    return np.vdot(v1,v2)"
   ]
  },
  {
   "cell_type": "code",
   "execution_count": 80,
   "id": "2ce07c19-e4f9-4c6d-8a98-7ae9bb57484f",
   "metadata": {},
   "outputs": [],
   "source": [
    "def random_complex_vector(n_components=2):\n",
    "    vals = np.random.rand(n_components,2)\n",
    "    vector = np.zeros(n_components,dtype=\"complex128\")\n",
    "    for i in range(n_components):\n",
    "        vector[i] = complex(vals[i,0],vals[i,1])\n",
    "    return vector"
   ]
  },
  {
   "cell_type": "code",
   "execution_count": 81,
   "id": "00b022a5-7a92-45c3-a321-bcbeffb466c8",
   "metadata": {},
   "outputs": [
    {
     "data": {
      "text/plain": [
       "array([0.86790372+0.92062319j, 0.67220254+0.3856258j ])"
      ]
     },
     "execution_count": 81,
     "metadata": {},
     "output_type": "execute_result"
    }
   ],
   "source": [
    "random_complex_vector()"
   ]
  }
 ],
 "metadata": {
  "kernelspec": {
   "display_name": "Python 3 (ipykernel)",
   "language": "python",
   "name": "python3"
  },
  "language_info": {
   "codemirror_mode": {
    "name": "ipython",
    "version": 3
   },
   "file_extension": ".py",
   "mimetype": "text/x-python",
   "name": "python",
   "nbconvert_exporter": "python",
   "pygments_lexer": "ipython3",
   "version": "3.9.6"
  }
 },
 "nbformat": 4,
 "nbformat_minor": 5
}
